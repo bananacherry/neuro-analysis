{
  "nbformat": 4,
  "nbformat_minor": 0,
  "metadata": {
    "colab": {
      "name": "hannah_github.ipynb",
      "version": "0.3.2",
      "provenance": [],
      "include_colab_link": true
    },
    "kernelspec": {
      "display_name": "Python 3",
      "language": "python",
      "name": "python3"
    }
  },
  "cells": [
    {
      "cell_type": "markdown",
      "metadata": {
        "id": "view-in-github",
        "colab_type": "text"
      },
      "source": [
        "<a href=\"https://colab.research.google.com/github/bananacherry/neuro-analysis/blob/master/hannah_github.ipynb\" target=\"_parent\"><img src=\"https://colab.research.google.com/assets/colab-badge.svg\" alt=\"Open In Colab\"/></a>"
      ]
    },
    {
      "metadata": {
        "id": "yKLGR1p8vohZ",
        "colab_type": "text"
      },
      "cell_type": "markdown",
      "source": [
        "# GitHub: What do we people talk about, when they talk about it?"
      ]
    },
    {
      "metadata": {
        "id": "APre7siWvohl",
        "colab_type": "text"
      },
      "cell_type": "markdown",
      "source": [
        "![github](https://studyguide.itu.dk/~/media/studyguide/student-life/facilities-at-itu/it-facilities/github/github_logo.png?h=248&w=573&la=en)"
      ]
    },
    {
      "metadata": {
        "id": "qEeH_UkVvohp",
        "colab_type": "code",
        "outputId": "607fcc3a-67e7-4790-a9d6-1d29c06ea2e5",
        "colab": {
          "base_uri": "https://localhost:8080/",
          "height": 34
        }
      },
      "cell_type": "code",
      "source": [
        "from IPython.display import YouTubeVideo\n",
        "YouTubeVideo(\"ASELrVgtPmM?t=41\")\n",
        "print('banana')"
      ],
      "execution_count": 6,
      "outputs": [
        {
          "output_type": "stream",
          "text": [
            "banana\n"
          ],
          "name": "stdout"
        }
      ]
    },
    {
      "metadata": {
        "id": "kpNjdSFpvoiB",
        "colab_type": "text"
      },
      "cell_type": "markdown",
      "source": [
        "## Branches and commits"
      ]
    },
    {
      "metadata": {
        "id": "T8rNjydJvoiD",
        "colab_type": "text"
      },
      "cell_type": "markdown",
      "source": [
        "![branches](https://cdn-images-1.medium.com/max/1600/1*5fzIWE84xzQUAcmVMJ4Ouw.png)"
      ]
    },
    {
      "metadata": {
        "id": "5WoAP3mFvoiG",
        "colab_type": "text"
      },
      "cell_type": "markdown",
      "source": [
        "### Download GitHub desktop: https://desktop.github.com/\n",
        "### (or use the command line)"
      ]
    },
    {
      "metadata": {
        "id": "f2N1jwesvoiK",
        "colab_type": "text"
      },
      "cell_type": "markdown",
      "source": [
        "## Quick GitHub in-class exercise "
      ]
    }
  ]
}